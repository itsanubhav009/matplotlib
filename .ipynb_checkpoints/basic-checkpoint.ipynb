{
 "cells": [
  {
   "cell_type": "code",
   "execution_count": null,
   "id": "69e41a30-b3f9-4406-926b-53fe17126951",
   "metadata": {},
   "outputs": [],
   "source": [
    "#list\n",
    "lst = ['Mathematics' , 100]\n",
    "#sets\n",
    "st = {\"qwe  \" , 1 , 2 , 3}\n",
    "#dictionary - it has key value pairs\n",
    "dict = {\"cars\" : \"audi\"}\n",
    "#tuple\n",
    "tupl = (\"a\" , \"b\" , \"c\")\n",
    "\n"
   ]
  },
  {
   "cell_type": "code",
   "execution_count": null,
   "id": "16f12674-32c2-48de-a6cd-15d1a25bfeed",
   "metadata": {},
   "outputs": [],
   "source": [
    "import numpy as np\n",
    "ary = [1 ,2, 3, 4,5]\n",
    "ary = np.array(ary)\n",
    "arr.shape # tell how many row and column will be there \n",
    "arr.reshape #reshape the array\n"
   ]
  },
  {
   "cell_type": "code",
   "execution_count": null,
   "id": "a79e6ffc-24a6-4470-9ed3-94e303de80ad",
   "metadata": {},
   "outputs": [],
   "source": [
    "np.linspace()"
   ]
  },
  {
   "cell_type": "code",
   "execution_count": null,
   "id": "aa6c767d-2747-4999-8200-6ac2ceeb3d60",
   "metadata": {},
   "outputs": [],
   "source": []
  }
 ],
 "metadata": {
  "kernelspec": {
   "display_name": "Python 3 (ipykernel)",
   "language": "python",
   "name": "python3"
  },
  "language_info": {
   "codemirror_mode": {
    "name": "ipython",
    "version": 3
   },
   "file_extension": ".py",
   "mimetype": "text/x-python",
   "name": "python",
   "nbconvert_exporter": "python",
   "pygments_lexer": "ipython3",
   "version": "3.10.13"
  }
 },
 "nbformat": 4,
 "nbformat_minor": 5
}
