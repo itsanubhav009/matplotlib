{
 "cells": [
  {
   "cell_type": "code",
   "execution_count": null,
   "id": "7892f7eb-6267-4d0a-bed3-0348c128fdcc",
   "metadata": {},
   "outputs": [],
   "source": [
    "import seaborn as sns\n"
   ]
  },
  {
   "cell_type": "code",
   "execution_count": null,
   "id": "9ca450d9-0347-4601-9fcd-9faa4c3d5612",
   "metadata": {},
   "outputs": [],
   "source": [
    "df = sns.load_dataset(\"tips\")"
   ]
  },
  {
   "cell_type": "code",
   "execution_count": null,
   "id": "f0c862ca-2941-4c1e-9299-076f1ff07789",
   "metadata": {},
   "outputs": [],
   "source": [
    "df.head()"
   ]
  },
  {
   "cell_type": "raw",
   "id": "b81e5e3f-85c9-4768-ad3c-4bb6e486dae6",
   "metadata": {},
   "source": [
    "df.corr()"
   ]
  },
  {
   "cell_type": "code",
   "execution_count": null,
   "id": "ce7019e9-4e62-415b-9c8e-42a60c7a1d02",
   "metadata": {},
   "outputs": [],
   "source": [
    "sns.heatmap(df.corr())"
   ]
  },
  {
   "cell_type": "code",
   "execution_count": null,
   "id": "ee7ea5d7-ad6c-4780-b143-82428204dfee",
   "metadata": {},
   "outputs": [],
   "source": [
    "# for pair plot we use - \n",
    "sns.pairplot(df , hue = 'smoker')"
   ]
  },
  {
   "cell_type": "code",
   "execution_count": null,
   "id": "9de1d02c-9aab-4df0-9065-3c35616abf6c",
   "metadata": {},
   "outputs": [],
   "source": [
    "sns.distplot(df['tip'] , kde =False , bind =10)"
   ]
  },
  {
   "cell_type": "code",
   "execution_count": null,
   "id": "3823e4ff-d5d8-469d-ae40-0f375a6515c0",
   "metadata": {},
   "outputs": [],
   "source": [
    "#categroical plots\n",
    "#boxplot"
   ]
  },
  {
   "cell_type": "code",
   "execution_count": null,
   "id": "db591740-6413-4c02-acfd-abdcb9551c02",
   "metadata": {},
   "outputs": [],
   "source": [
    "sns.count"
   ]
  }
 ],
 "metadata": {
  "kernelspec": {
   "display_name": "Python 3 (ipykernel)",
   "language": "python",
   "name": "python3"
  },
  "language_info": {
   "codemirror_mode": {
    "name": "ipython",
    "version": 3
   },
   "file_extension": ".py",
   "mimetype": "text/x-python",
   "name": "python",
   "nbconvert_exporter": "python",
   "pygments_lexer": "ipython3",
   "version": "3.10.13"
  }
 },
 "nbformat": 4,
 "nbformat_minor": 5
}
